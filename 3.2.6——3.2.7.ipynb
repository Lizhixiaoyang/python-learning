{
 "cells": [
  {
   "cell_type": "code",
   "execution_count": null,
   "metadata": {},
   "outputs": [],
   "source": [
    "#知识点\n",
    "#1.象形图\n",
    "#2.降序排列\n",
    "#3.流动图"
   ]
  },
  {
   "cell_type": "code",
   "execution_count": 29,
   "metadata": {},
   "outputs": [],
   "source": [
    "import pandas as pd\n",
    "from pyecharts import options as opts\n",
    "from pyecharts.charts import PictorialBar\n",
    "from pyecharts.globals import SymbolType\n",
    "\n",
    "from pyecharts.charts import Geo\n",
    "from pyecharts.globals import ChartType\n"
   ]
  },
  {
   "cell_type": "code",
   "execution_count": 5,
   "metadata": {},
   "outputs": [],
   "source": [
    "df=pd.read_excel(\"D:/2022_py_code/03代码 (2)/03代码/data/01感染人数分布数据.xlsx\",sheet_name='各市确诊病例')"
   ]
  },
  {
   "cell_type": "code",
   "execution_count": 6,
   "metadata": {},
   "outputs": [
    {
     "name": "stdout",
     "output_type": "stream",
     "text": [
      "                  日期    北京市   天津市    上海市    重庆市   沧州市  石家庄市   廊坊市   保定市  张家口市  \\\n",
      "日期                                                                              \n",
      "2020-1-20  2020-1-20    5.0   NaN    2.0    NaN   NaN   NaN   NaN   NaN   NaN   \n",
      "2020-1-21  2020-1-21   10.0   2.0    9.0    5.0   NaN   NaN   NaN   NaN   NaN   \n",
      "2020-1-22  2020-1-22   14.0   4.0   16.0    9.0   NaN   NaN   NaN   NaN   NaN   \n",
      "2020-1-23  2020-1-23   26.0   5.0   20.0   27.0   NaN   NaN   NaN   NaN   NaN   \n",
      "2020-1-24  2020-1-24   36.0   8.0   33.0   57.0   NaN   NaN   NaN   NaN   NaN   \n",
      "2020-1-25  2020-1-25   51.0  10.0   40.0   75.0   2.0   5.0   NaN   3.0   NaN   \n",
      "2020-1-26  2020-1-26   68.0  14.0   53.0  110.0   2.0   7.0   2.0   3.0   NaN   \n",
      "2020-1-27  2020-1-27   80.0  23.0   66.0  132.0   5.0   9.0   6.0   3.0   NaN   \n",
      "2020-1-28  2020-1-28   91.0  24.0   80.0  147.0   8.0  10.0   9.0   6.0   1.0   \n",
      "2020-1-29  2020-1-29  111.0  27.0  101.0  165.0  12.0  11.0   9.0   7.0   6.0   \n",
      "2020-1-30  2020-1-30  132.0  31.0  128.0  206.0  18.0  11.0   9.0  11.0   6.0   \n",
      "2020-1-31  2020-1-31  156.0  32.0  153.0  238.0  19.0  12.0  11.0  11.0   8.0   \n",
      "2020-2-1    2020-2-1  183.0  41.0  177.0  262.0  19.0  13.0  11.0  13.0   9.0   \n",
      "2020-2-2    2020-2-2  212.0  48.0  193.0  300.0  19.0  16.0  12.0  13.0   9.0   \n",
      "2020-2-3    2020-2-3  228.0  60.0  208.0  337.0  20.0  21.0  12.0  13.0   9.0   \n",
      "2020-2-4    2020-2-4    NaN   NaN    NaN    NaN   NaN   NaN   NaN   NaN   NaN   \n",
      "2020-2-5    2020-2-5    NaN   NaN    NaN    NaN   NaN   NaN   NaN   NaN   NaN   \n",
      "2020-2-6    2020-2-6    NaN   NaN    NaN    NaN   NaN   NaN   NaN   NaN   NaN   \n",
      "2020-2-7    2020-2-7    NaN   NaN    NaN    NaN   NaN   NaN   NaN   NaN   NaN   \n",
      "\n",
      "           ...  吴忠市  固原市  中卫市  宁东市  乌鲁木齐市  伊犁哈萨克自治州  昌吉州  吐鲁番市  阿克苏地区  石河子市  \n",
      "日期         ...                                                               \n",
      "2020-1-20  ...  NaN  NaN  NaN  NaN    NaN       NaN  NaN   NaN    NaN   NaN  \n",
      "2020-1-21  ...  NaN  NaN  NaN  NaN    NaN       NaN  NaN   NaN    NaN   NaN  \n",
      "2020-1-22  ...  NaN  NaN  NaN  NaN    NaN       NaN  NaN   NaN    NaN   NaN  \n",
      "2020-1-23  ...  NaN  NaN  1.0  NaN    2.0       NaN  NaN   NaN    NaN   NaN  \n",
      "2020-1-24  ...  NaN  1.0  1.0  NaN    3.0       NaN  NaN   NaN    NaN   NaN  \n",
      "2020-1-25  ...  NaN  1.0  1.0  NaN    3.0       1.0  NaN   NaN    NaN   NaN  \n",
      "2020-1-26  ...  NaN  1.0  1.0  NaN    4.0       1.0  NaN   NaN    NaN   NaN  \n",
      "2020-1-27  ...  2.0  1.0  1.0  NaN    5.0       2.0  NaN   1.0    NaN   2.0  \n",
      "2020-1-28  ...  3.0  1.0  1.0  NaN    6.0       4.0  NaN   1.0    NaN   2.0  \n",
      "2020-1-29  ...  5.0  1.0  1.0  1.0    7.0       4.0  NaN   1.0    NaN   2.0  \n",
      "2020-1-30  ...  5.0  2.0  2.0  1.0    8.0       5.0  NaN   1.0    1.0   2.0  \n",
      "2020-1-31  ...  6.0  2.0  2.0  1.0    8.0       5.0  NaN   1.0    1.0   3.0  \n",
      "2020-2-1   ...  7.0  2.0  2.0  1.0    8.0       5.0  NaN   1.0    1.0   6.0  \n",
      "2020-2-2   ...  7.0  2.0  2.0  1.0   10.0       6.0  NaN   1.0    1.0   6.0  \n",
      "2020-2-3   ...  7.0  2.0  3.0  1.0   12.0       7.0  1.0   1.0    1.0   7.0  \n",
      "2020-2-4   ...  NaN  NaN  NaN  NaN    NaN       NaN  NaN   NaN    NaN   NaN  \n",
      "2020-2-5   ...  NaN  NaN  NaN  NaN    NaN       NaN  NaN   NaN    NaN   NaN  \n",
      "2020-2-6   ...  NaN  NaN  NaN  NaN    NaN       NaN  NaN   NaN    NaN   NaN  \n",
      "2020-2-7   ...  NaN  NaN  NaN  NaN    NaN       NaN  NaN   NaN    NaN   NaN  \n",
      "\n",
      "[19 rows x 328 columns]\n"
     ]
    }
   ],
   "source": [
    "#将索引值改成日期\n",
    "df.index=df['日期']\n",
    "print(df)"
   ]
  },
  {
   "cell_type": "code",
   "execution_count": 7,
   "metadata": {},
   "outputs": [],
   "source": [
    "df1=df.drop(['日期'],axis=1)#删除多余日期列"
   ]
  },
  {
   "cell_type": "code",
   "execution_count": 10,
   "metadata": {},
   "outputs": [
    {
     "name": "stdout",
     "output_type": "stream",
     "text": [
      "            北京市   天津市    上海市    重庆市   沧州市  石家庄市   廊坊市   保定市  张家口市   邯郸市  ...  \\\n",
      "日期                                                                       ...   \n",
      "2020-2-3  228.0  60.0  208.0  337.0  20.0  21.0  12.0  13.0   9.0  14.0  ...   \n",
      "\n",
      "          吴忠市  固原市  中卫市  宁东市  乌鲁木齐市  伊犁哈萨克自治州  昌吉州  吐鲁番市  阿克苏地区  石河子市  \n",
      "日期                                                                     \n",
      "2020-2-3  7.0  2.0  3.0  1.0   12.0       7.0  1.0   1.0    1.0   7.0  \n",
      "\n",
      "[1 rows x 327 columns]\n"
     ]
    }
   ],
   "source": [
    "df2=df1[\"2020-2-3\":\"2020-2-3\"]\n",
    "print(df2)"
   ]
  },
  {
   "cell_type": "code",
   "execution_count": 42,
   "metadata": {},
   "outputs": [
    {
     "name": "stdout",
     "output_type": "stream",
     "text": [
      "日期   2020-2-3\n",
      "北京市     228.0\n",
      "天津市      60.0\n",
      "上海市     208.0\n",
      "重庆市     337.0\n",
      "沧州市      20.0\n"
     ]
    }
   ],
   "source": [
    "#进行行列变化(转置)\n",
    "df3=df2.T\n",
    "print(df3.head())"
   ]
  },
  {
   "cell_type": "code",
   "execution_count": 44,
   "metadata": {},
   "outputs": [
    {
     "name": "stdout",
     "output_type": "stream",
     "text": [
      "日期   2020-2-3\n",
      "武汉市    6384.0\n",
      "黄冈市    1422.0\n",
      "孝感市    1120.0\n",
      "随州市     641.0\n",
      "襄阳市     632.0\n"
     ]
    }
   ],
   "source": [
    "#df4=df3.sort_values(by=\"2020-2-3\",ascending=True)\n",
    "df4 = df3.sort_values(by=\"2020-2-3\" , ascending=False) \n",
    "#按照顺序排列\n",
    "#ascending 这个参数的默认值是 True ，按照升序排序，当传入 False 时，按照降序进行排列\n",
    "print(df4.head())"
   ]
  },
  {
   "cell_type": "code",
   "execution_count": 45,
   "metadata": {},
   "outputs": [],
   "source": [
    "df5=df4.reset_index()\n",
    "#将索引重置"
   ]
  },
  {
   "cell_type": "code",
   "execution_count": 46,
   "metadata": {},
   "outputs": [
    {
     "name": "stdout",
     "output_type": "stream",
     "text": [
      "日期 index  2020-2-3\n",
      "0    武汉市    6384.0\n",
      "1    黄冈市    1422.0\n",
      "2    孝感市    1120.0\n",
      "3    随州市     641.0\n",
      "4    襄阳市     632.0\n"
     ]
    }
   ],
   "source": [
    "df6=df5[0:20]\n",
    "#选取感染人数排名前20名的城市\n",
    "print(df6.head())"
   ]
  },
  {
   "cell_type": "code",
   "execution_count": 47,
   "metadata": {},
   "outputs": [
    {
     "name": "stdout",
     "output_type": "stream",
     "text": [
      "日期 index  2020-2-3\n",
      "19   长沙市     148.0\n",
      "18   仙桃市     188.0\n",
      "17   上海市     208.0\n",
      "16   广州市     216.0\n",
      "15   北京市     228.0\n"
     ]
    }
   ],
   "source": [
    "df7=df6.sort_values(by=\"2020-2-3\",ascending=True)\n",
    "#按照顺序排列，为的是等会画图的时候可以适应Pictorialbar_base（）函数显示的顺序\n",
    "print(df7.head())"
   ]
  },
  {
   "cell_type": "code",
   "execution_count": 48,
   "metadata": {},
   "outputs": [],
   "source": [
    "#location = [\"城市T\",\"城市S\",\"城市R\",\"城市Q\",\"城市P\",\"城市O\",\"城市N\",\"城市M\",\"城市L\",\"城市K\",\"城市J\",\"城市I\",\"城市H\",\"城市G\",\"城市F\",\"城市E\",\"城市D\",\"城市C\",\"城市B\",\"城市A\"]\n",
    "#这里没有使用具体城市"
   ]
  },
  {
   "cell_type": "code",
   "execution_count": 52,
   "metadata": {},
   "outputs": [],
   "source": [
    "#使用具体的城市名\n",
    "location=list(df7['index'])\n",
    "values=list(df7['2020-2-3'])"
   ]
  },
  {
   "cell_type": "code",
   "execution_count": 53,
   "metadata": {},
   "outputs": [
    {
     "data": {
      "text/plain": [
       "'D:\\\\2022_py_code\\\\Afterclass_practice\\\\03-06各市确诊分布象形图.html'"
      ]
     },
     "execution_count": 53,
     "metadata": {},
     "output_type": "execute_result"
    }
   ],
   "source": [
    "#定义象形图函数\n",
    "def poctorialbar_base():\n",
    "    c=(\n",
    "        PictorialBar()\n",
    "        .add_xaxis(location)\n",
    "        .add_yaxis(\n",
    "        \"\",\n",
    "        values,\n",
    "        label_opts=opts.LabelOpts(is_show=False),\n",
    "        symbol_size=18,\n",
    "        symbol_repeat=\"fixed\",\n",
    "        symbol_offset=[0,0],\n",
    "        is_symbol_clip=True,\n",
    "        symbol=SymbolType.ROUND_RECT\n",
    "        )\n",
    "        .reversal_axis()\n",
    "        .set_global_opts(\n",
    "            title_opts=opts.TitleOpts(title=\"确诊地排名（2020-2-3）\"),\n",
    "            xaxis_opts=opts.AxisOpts(is_show=False),\n",
    "            yaxis_opts=opts.AxisOpts(\n",
    "                axistick_opts=opts.AxisTickOpts(is_show=False),\n",
    "                axisline_opts=opts.AxisLineOpts(\n",
    "                    linestyle_opts=opts.LineStyleOpts(opacity=0)\n",
    "                ),\n",
    "            ),\n",
    "        \n",
    "        )\n",
    "    \n",
    "    )\n",
    "    return c\n",
    "m=poctorialbar_base()\n",
    "m.render(path=\"D:/2022_py_code/Afterclass_practice/03-06各市确诊分布象形图.html\")"
   ]
  },
  {
   "cell_type": "code",
   "execution_count": 63,
   "metadata": {},
   "outputs": [],
   "source": [
    "#人口流动示意图\n",
    "df_Except_Hb = df.drop(['日期','黄石市','十堰市','襄阳市',\n",
    "                        '宜昌市','荆州市','荆门市','鄂州市','孝感市',\n",
    "                        '黄冈市','咸宁市','随州市','恩施','仙桃市',\n",
    "                        '天门市','潜江市','神农架林区'], axis=1)#删除湖北省除武汉以外其它市的数据"
   ]
  },
  {
   "cell_type": "code",
   "execution_count": 64,
   "metadata": {},
   "outputs": [
    {
     "name": "stdout",
     "output_type": "stream",
     "text": [
      "日期   2020-2-3\n",
      "北京市     228.0\n",
      "天津市      60.0\n",
      "上海市     208.0\n",
      "重庆市     337.0\n",
      "沧州市      20.0\n"
     ]
    }
   ],
   "source": [
    "df_Except_Hb1 = df_Except_Hb[\"2020-2-3\":\"2020-2-3\"].T \n",
    "#选取2月3日数据，并进行行列变化\n",
    "print(df_Except_Hb1.head())"
   ]
  },
  {
   "cell_type": "code",
   "execution_count": 65,
   "metadata": {},
   "outputs": [],
   "source": [
    "df_Except_Hb2 = df_Except_Hb1.sort_values(by=\"2020-2-3\" , ascending=False) \n",
    "#进行降序排列"
   ]
  },
  {
   "cell_type": "code",
   "execution_count": 67,
   "metadata": {},
   "outputs": [
    {
     "name": "stdout",
     "output_type": "stream",
     "text": [
      "日期 index  2020-2-3\n",
      "0    武汉市    6384.0\n",
      "1    温州市     340.0\n",
      "2    重庆市     337.0\n",
      "3    深圳市     269.0\n",
      "4    北京市     228.0\n"
     ]
    }
   ],
   "source": [
    "df_Except_Hb3 = df_Except_Hb2.reset_index()\n",
    "#重置索引\n",
    "print(df_Except_Hb3.head())"
   ]
  },
  {
   "cell_type": "code",
   "execution_count": 69,
   "metadata": {},
   "outputs": [
    {
     "name": "stdout",
     "output_type": "stream",
     "text": [
      "    城市    感染人数\n",
      "0  武汉市  6384.0\n",
      "1  温州市   340.0\n",
      "2  重庆市   337.0\n",
      "3  深圳市   269.0\n",
      "4  北京市   228.0\n"
     ]
    }
   ],
   "source": [
    "#对列重命名\n",
    "df_Except_Hb3.columns = ['城市','感染人数']\n",
    "print(df_Except_Hb3.head())"
   ]
  },
  {
   "cell_type": "code",
   "execution_count": 71,
   "metadata": {},
   "outputs": [
    {
     "name": "stdout",
     "output_type": "stream",
     "text": [
      "    城市    感染人数\n",
      "0  武汉市  6384.0\n",
      "1  温州市   340.0\n",
      "2  重庆市   337.0\n",
      "3  深圳市   269.0\n",
      "4  北京市   228.0\n"
     ]
    }
   ],
   "source": [
    "df_Except_Hb4=df_Except_Hb3[0:11]\n",
    "#选取感染人数排名前11的城市（包含武汉）\n",
    "print(df_Except_Hb4.head())"
   ]
  },
  {
   "cell_type": "code",
   "execution_count": 72,
   "metadata": {},
   "outputs": [
    {
     "name": "stderr",
     "output_type": "stream",
     "text": [
      "<ipython-input-72-4bf5383ffb9e>:1: SettingWithCopyWarning: \n",
      "A value is trying to be set on a copy of a slice from a DataFrame.\n",
      "Try using .loc[row_indexer,col_indexer] = value instead\n",
      "\n",
      "See the caveats in the documentation: https://pandas.pydata.org/pandas-docs/stable/user_guide/indexing.html#returning-a-view-versus-a-copy\n",
      "  df_Except_Hb4['武汉'] = '武汉市'\n"
     ]
    }
   ],
   "source": [
    "df_Except_Hb4['武汉'] = '武汉市' \n",
    "#增加一列全为“武汉”的列，方便整合成geo_lines_background()要求的数据类型"
   ]
  },
  {
   "cell_type": "code",
   "execution_count": 74,
   "metadata": {},
   "outputs": [],
   "source": [
    "city_values = list(zip(df_Except_Hb4['城市'],df_Except_Hb4['感染人数'])) \n",
    "#整合成geo_lines_background()要求的数据格式"
   ]
  },
  {
   "cell_type": "code",
   "execution_count": 76,
   "metadata": {},
   "outputs": [],
   "source": [
    "city_lines = list(zip(df_Except_Hb4['武汉'],df_Except_Hb4['城市']))"
   ]
  },
  {
   "cell_type": "code",
   "execution_count": 78,
   "metadata": {},
   "outputs": [],
   "source": [
    "#调用pyecharts库中的地图路线图，展示人员流动情况\n",
    "def geo_lines_background() :\n",
    "    c = (\n",
    "        Geo()\n",
    "        .add_schema(\n",
    "            maptype=\"china\",\n",
    "            itemstyle_opts=opts.ItemStyleOpts(color=\"#323c48\", border_color=\"#111\"),\n",
    "        )\n",
    "        .add(\n",
    "            \"\",\n",
    "            city_values,\n",
    "            type_=ChartType.EFFECT_SCATTER,\n",
    "            color=\"white\",\n",
    "        )\n",
    "        .add(\n",
    "            \"人口流动路线图\",\n",
    "            city_lines,\n",
    "            type_=ChartType.LINES,\n",
    "            effect_opts=opts.EffectOpts(\n",
    "                symbol=SymbolType.ARROW, symbol_size=6, color=\"blue\"\n",
    "            ),\n",
    "            linestyle_opts=opts.LineStyleOpts(curve=0.2),\n",
    "        )\n",
    "        .set_series_opts(label_opts=opts.LabelOpts(is_show=False))\n",
    "#        .set_global_opts(title_opts=opts.TitleOpts(title=\"人口流动路线图\"))\n",
    "    )\n",
    "    return c\n",
    "\n",
    "mapLine = geo_lines_background()\n"
   ]
  },
  {
   "cell_type": "code",
   "execution_count": 80,
   "metadata": {},
   "outputs": [
    {
     "data": {
      "text/plain": [
       "'D:\\\\2022_py_code\\\\Afterclass_practice\\\\03-07人员流动示意图.html'"
      ]
     },
     "execution_count": 80,
     "metadata": {},
     "output_type": "execute_result"
    }
   ],
   "source": [
    "mapLine.render(path=\"D:/2022_py_code/Afterclass_practice/03-07人员流动示意图.html\")"
   ]
  },
  {
   "cell_type": "code",
   "execution_count": null,
   "metadata": {},
   "outputs": [],
   "source": []
  }
 ],
 "metadata": {
  "kernelspec": {
   "display_name": "Python 3",
   "language": "python",
   "name": "python3"
  },
  "language_info": {
   "codemirror_mode": {
    "name": "ipython",
    "version": 3
   },
   "file_extension": ".py",
   "mimetype": "text/x-python",
   "name": "python",
   "nbconvert_exporter": "python",
   "pygments_lexer": "ipython3",
   "version": "3.8.5"
  }
 },
 "nbformat": 4,
 "nbformat_minor": 4
}
