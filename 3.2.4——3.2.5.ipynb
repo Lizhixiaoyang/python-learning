{
 "cells": [
  {
   "cell_type": "code",
   "execution_count": 4,
   "metadata": {},
   "outputs": [],
   "source": [
    "#知识点\n",
    "#1.折线图\n",
    "#2.热力图"
   ]
  },
  {
   "cell_type": "code",
   "execution_count": 34,
   "metadata": {},
   "outputs": [],
   "source": [
    "from pyecharts import options as opts\n",
    "import pandas as pd\n",
    "from pyecharts.charts import Line\n",
    "import numpy as np\n",
    "\n",
    "from pyecharts.charts import Geo\n",
    "from pyecharts.globals import ChartType"
   ]
  },
  {
   "cell_type": "code",
   "execution_count": 6,
   "metadata": {},
   "outputs": [],
   "source": [
    "#读取相关数据\n",
    "df=pd.read_excel(\"D:/2022_py_code/03代码 (2)/03代码/data/01感染人数分布数据.xlsx\",sheet_name='全国走势')"
   ]
  },
  {
   "cell_type": "code",
   "execution_count": 8,
   "metadata": {},
   "outputs": [],
   "source": [
    "#读取历史疫情数据\n",
    "df1=df[0:10]#截取2020年一月二十日到二十九日的数据"
   ]
  },
  {
   "cell_type": "code",
   "execution_count": 24,
   "metadata": {},
   "outputs": [
    {
     "data": {
      "text/plain": [
       "'D:\\\\2022_py_code\\\\Afterclass_practice\\\\03-04出院-死亡走势图.html'"
      ]
     },
     "execution_count": 24,
     "metadata": {},
     "output_type": "execute_result"
    }
   ],
   "source": [
    "#调用Line（）函数\n",
    "c = (\n",
    "        Line()\n",
    "        .add_xaxis(df1['日期'].tolist())      \n",
    "        .add_yaxis(\"出院人数\", df1['出院'].tolist(), is_smooth=True,\n",
    "                   symbol=\"triangle\",\n",
    "                   symbol_size=10,\n",
    "                   linestyle_opts=opts.LineStyleOpts(type_='dashed', width=2)\n",
    "                  )\n",
    "        .add_yaxis(\"死亡人数\", df1['死亡'].tolist(), is_smooth=True)\n",
    "        .set_global_opts(\n",
    "                         #title_opts=opts.TitleOpts(title=\"出院-死亡人数走势图\"),\n",
    "                         yaxis_opts=opts.AxisOpts(name='人数'),\n",
    "                         xaxis_opts=opts.AxisOpts(name='时间'))\n",
    "    )\n",
    "c.render(\"D:/2022_py_code/Afterclass_practice/03-04出院-死亡走势图.html\")"
   ]
  },
  {
   "cell_type": "code",
   "execution_count": 26,
   "metadata": {},
   "outputs": [],
   "source": [
    "df=pd.read_excel(\"D:/2022_py_code/03代码 (2)/03代码/data/01感染人数分布数据.xlsx\",sheet_name='各市确诊病例')"
   ]
  },
  {
   "cell_type": "code",
   "execution_count": 28,
   "metadata": {},
   "outputs": [],
   "source": [
    "df.index = df['日期'] #修改索引值为日期"
   ]
  },
  {
   "cell_type": "code",
   "execution_count": 29,
   "metadata": {},
   "outputs": [],
   "source": [
    "df1 = df.drop(['日期'], axis=1)#删除多余日期列"
   ]
  },
  {
   "cell_type": "code",
   "execution_count": 30,
   "metadata": {},
   "outputs": [],
   "source": [
    "df2 = df1[\"2020-2-3\":\"2020-2-3\"]#选取2月3日数据"
   ]
  },
  {
   "cell_type": "code",
   "execution_count": 31,
   "metadata": {},
   "outputs": [],
   "source": [
    "df3 = df2.dropna(axis=1)#删除缺失列，某列没数据，删除该省数据，这里不用0填充是因为0也会在地图里显示。"
   ]
  },
  {
   "cell_type": "code",
   "execution_count": 32,
   "metadata": {},
   "outputs": [],
   "source": [
    "df_province = list(df3.columns)\n",
    "#选取省名称，并转换成列表，目的是保持数据格式符合pyechart里Map的数据格式"
   ]
  },
  {
   "cell_type": "code",
   "execution_count": 35,
   "metadata": {},
   "outputs": [],
   "source": [
    "people =np.array(df3).astype(int)#数据格式变换\n",
    "people = people.tolist()\n",
    "people1 = people[0]#取第一个数据"
   ]
  },
  {
   "cell_type": "code",
   "execution_count": 36,
   "metadata": {},
   "outputs": [],
   "source": [
    "#热力图展示各市分布情况"
   ]
  },
  {
   "cell_type": "code",
   "execution_count": 37,
   "metadata": {},
   "outputs": [],
   "source": [
    "c = (\n",
    "     Geo()\n",
    "     .add_schema(maptype=\"china\")\n",
    "     .add(\"热力图\",[list(z) for z in zip(df_province, people1)],type_=ChartType.HEATMAP)\n",
    "     .set_series_opts(label_opts=opts.LabelOpts(is_show=False))\n",
    "     .set_global_opts(\n",
    "        visualmap_opts=opts.VisualMapOpts(max_=1000, is_piecewise=True),\n",
    "        title_opts=opts.TitleOpts(title=\"各市确诊热力图\"),\n",
    "        )\n",
    "    )\n"
   ]
  },
  {
   "cell_type": "code",
   "execution_count": 38,
   "metadata": {},
   "outputs": [
    {
     "data": {
      "text/plain": [
       "'D:\\\\2022_py_code\\\\Afterclass_practice\\\\03-05确诊分布热力图.html'"
      ]
     },
     "execution_count": 38,
     "metadata": {},
     "output_type": "execute_result"
    }
   ],
   "source": [
    "c.render(\"D:/2022_py_code/Afterclass_practice/03-05确诊分布热力图.html\")"
   ]
  },
  {
   "cell_type": "code",
   "execution_count": null,
   "metadata": {},
   "outputs": [],
   "source": []
  }
 ],
 "metadata": {
  "kernelspec": {
   "display_name": "Python 3",
   "language": "python",
   "name": "python3"
  },
  "language_info": {
   "codemirror_mode": {
    "name": "ipython",
    "version": 3
   },
   "file_extension": ".py",
   "mimetype": "text/x-python",
   "name": "python",
   "nbconvert_exporter": "python",
   "pygments_lexer": "ipython3",
   "version": "3.8.5"
  }
 },
 "nbformat": 4,
 "nbformat_minor": 4
}
