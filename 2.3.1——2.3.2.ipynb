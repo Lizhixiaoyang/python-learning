{
 "cells": [
  {
   "cell_type": "code",
   "execution_count": 21,
   "metadata": {},
   "outputs": [],
   "source": [
    "import pandas as pd\n",
    "import numpy as np"
   ]
  },
  {
   "cell_type": "code",
   "execution_count": 7,
   "metadata": {},
   "outputs": [],
   "source": [
    "df1=pd.read_excel(\"D:/2022_py_code/chap2数据/020_all_weather.xlsx\",sheet_name='Sheet1',index_col=0)\n",
    "#index_col=0的意思是将第一列为index值\n",
    "#Sheet1的首字母要大写"
   ]
  },
  {
   "cell_type": "code",
   "execution_count": 9,
   "metadata": {},
   "outputs": [
    {
     "name": "stdout",
     "output_type": "stream",
     "text": [
      "           date maxTem minTem weather               wind\n",
      "0  2011-01-01      20℃    12℃       晴           无持续风向 微风\n",
      "1  2011-01-02      22℃    13℃      多云           无持续风向 微风\n",
      "2  2011-01-03      22℃    14℃      多云           无持续风向 微风\n",
      "3  2011-01-04      23℃    13℃      多云  无持续风向~东北风 微风~3-4级\n",
      "4  2011-01-05      19℃    10℃    阴~多云           东北风 3-4级\n"
     ]
    }
   ],
   "source": [
    "print(df1.head(5))#读前五行数据"
   ]
  },
  {
   "cell_type": "code",
   "execution_count": 11,
   "metadata": {},
   "outputs": [
    {
     "name": "stdout",
     "output_type": "stream",
     "text": [
      "<class 'pandas.core.frame.DataFrame'>\n",
      "Int64Index: 3639 entries, 0 to 3638\n",
      "Data columns (total 5 columns):\n",
      " #   Column   Non-Null Count  Dtype \n",
      "---  ------   --------------  ----- \n",
      " 0   date     3639 non-null   object\n",
      " 1   maxTem   3639 non-null   object\n",
      " 2   minTem   3639 non-null   object\n",
      " 3   weather  3638 non-null   object\n",
      " 4   wind     3639 non-null   object\n",
      "dtypes: object(5)\n",
      "memory usage: 170.6+ KB\n",
      "None\n"
     ]
    }
   ],
   "source": [
    "print(df1.info())#快速浏览基本信息"
   ]
  },
  {
   "cell_type": "code",
   "execution_count": 12,
   "metadata": {},
   "outputs": [],
   "source": [
    "#对日期进行分列处理\n",
    "df_date=df1['date'].str.split(expand=True)#z这是未指定分列方式"
   ]
  },
  {
   "cell_type": "code",
   "execution_count": null,
   "metadata": {},
   "outputs": [],
   "source": [
    "#如果想要指定分列方式，如以|为分列要求\n",
    "#import pandas as pd\n",
    "#data['name'].str.split('|',expand=True)\n",
    "#参数expand，这个参数取True时，会把切割出来的内容当做一列。 如果不需要pandas为你分好列，expand=False"
   ]
  },
  {
   "cell_type": "code",
   "execution_count": 13,
   "metadata": {},
   "outputs": [
    {
     "name": "stdout",
     "output_type": "stream",
     "text": [
      "            0     1\n",
      "0  2011-01-01  None\n",
      "1  2011-01-02  None\n",
      "2  2011-01-03  None\n",
      "3  2011-01-04  None\n",
      "4  2011-01-05  None\n"
     ]
    }
   ],
   "source": [
    "print(df_date.head())"
   ]
  },
  {
   "cell_type": "code",
   "execution_count": 24,
   "metadata": {},
   "outputs": [],
   "source": [
    "df1['date']=df_date.get(0)"
   ]
  },
  {
   "cell_type": "code",
   "execution_count": 38,
   "metadata": {},
   "outputs": [],
   "source": [
    "#对气温数值进行处理\n",
    "df1['maxTem']=df1['maxTem'].astype(str).str.replace('℃',' ').astype(np.float64)#将maxTem列字符串改成浮点数\n",
    "#replace函数的用法： str.replace(old, new[, max])\n",
    "#注意这里的摄氏度是符号，强行写会报错，所以加上astype(str)\n",
    "#astype()    对数据类型进行转换 ，例a = a.astype('Float64')"
   ]
  },
  {
   "cell_type": "code",
   "execution_count": 40,
   "metadata": {},
   "outputs": [],
   "source": [
    "df1['minTem']=df1['minTem'].str.extract('(\\d+)').astype(np.float64)#extract函数可以提取其中的数字部分。此外将类型改成了浮点数"
   ]
  },
  {
   "cell_type": "code",
   "execution_count": 41,
   "metadata": {},
   "outputs": [
    {
     "name": "stdout",
     "output_type": "stream",
     "text": [
      "         date  maxTem  minTem weather               wind\n",
      "0  2011-01-01    20.0    12.0       晴           无持续风向 微风\n",
      "1  2011-01-02    22.0    13.0      多云           无持续风向 微风\n",
      "2  2011-01-03    22.0    14.0      多云           无持续风向 微风\n",
      "3  2011-01-04    23.0    13.0      多云  无持续风向~东北风 微风~3-4级\n",
      "4  2011-01-05    19.0    10.0    阴~多云           东北风 3-4级\n"
     ]
    }
   ],
   "source": [
    "print(df1.head(5))"
   ]
  },
  {
   "cell_type": "code",
   "execution_count": 45,
   "metadata": {},
   "outputs": [],
   "source": [
    "#对风向进行处理\n",
    "df_wind=df1['wind'].str.split(expand=True)#未指定分列方式，以空格作为分隔符\n",
    "df_wind_split=df_wind.rename(columns={0:'wind_direction',1:'wind_speed'})#分割成了两列，第一列叫wind_direction，第二列叫wind_speed"
   ]
  },
  {
   "cell_type": "code",
   "execution_count": 46,
   "metadata": {},
   "outputs": [
    {
     "name": "stdout",
     "output_type": "stream",
     "text": [
      "  wind_direction wind_speed\n",
      "0          无持续风向         微风\n",
      "1          无持续风向         微风\n",
      "2          无持续风向         微风\n",
      "3      无持续风向~东北风    微风~3-4级\n",
      "4            东北风       3-4级\n"
     ]
    }
   ],
   "source": [
    "print(df_wind_split.head(5))"
   ]
  },
  {
   "cell_type": "code",
   "execution_count": 47,
   "metadata": {},
   "outputs": [],
   "source": [
    "#将多个数据帧连接在一起\n",
    "df2=pd.concat([df1,df_wind_split],axis=1)#axis=1时，concat就是行对齐\n",
    "#默认情况是axis=0，此时是纵向对齐"
   ]
  },
  {
   "cell_type": "code",
   "execution_count": 49,
   "metadata": {},
   "outputs": [],
   "source": [
    "df_new=df2.drop('wind',axis=1)#去掉wind这一列，因为已经将wind分割成df_wind_split了"
   ]
  },
  {
   "cell_type": "code",
   "execution_count": 50,
   "metadata": {},
   "outputs": [
    {
     "name": "stdout",
     "output_type": "stream",
     "text": [
      "            maxTem       minTem\n",
      "count  3639.000000  3639.000000\n",
      "mean     26.790602    20.973894\n",
      "std       5.363849     5.667789\n",
      "min       5.000000     0.000000\n",
      "25%      23.000000    17.000000\n",
      "50%      28.000000    22.000000\n",
      "75%      31.000000    26.000000\n",
      "max      36.000000    34.000000\n"
     ]
    }
   ],
   "source": [
    "print(df_new.describe())#对形成的新表做一下描述统计。\n",
    "#只出现两列的原因：只有温度的这两列是数值型数据"
   ]
  },
  {
   "cell_type": "code",
   "execution_count": 53,
   "metadata": {},
   "outputs": [],
   "source": [
    "df_new.to_excel('D:/2022_py_code/chap2数据/03_newDate.xlsx')#保存成一个新的excelbiao'g"
   ]
  },
  {
   "cell_type": "code",
   "execution_count": null,
   "metadata": {},
   "outputs": [],
   "source": []
  }
 ],
 "metadata": {
  "kernelspec": {
   "display_name": "Python 3",
   "language": "python",
   "name": "python3"
  },
  "language_info": {
   "codemirror_mode": {
    "name": "ipython",
    "version": 3
   },
   "file_extension": ".py",
   "mimetype": "text/x-python",
   "name": "python",
   "nbconvert_exporter": "python",
   "pygments_lexer": "ipython3",
   "version": "3.8.5"
  }
 },
 "nbformat": 4,
 "nbformat_minor": 4
}
