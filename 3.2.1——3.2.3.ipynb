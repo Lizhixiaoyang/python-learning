{
 "cells": [
  {
   "cell_type": "code",
   "execution_count": null,
   "metadata": {},
   "outputs": [],
   "source": [
    "#知识点\n",
    "#1、生成疫情分布展示图表（中国、世界）\n",
    "#2、堆叠图"
   ]
  },
  {
   "cell_type": "code",
   "execution_count": 56,
   "metadata": {},
   "outputs": [],
   "source": [
    "from pyecharts import options as opts\n",
    "from pyecharts.charts import Map\n",
    "from pyecharts.charts import Bar\n",
    "\n",
    "import numpy as np\n",
    "import pandas as pd"
   ]
  },
  {
   "cell_type": "code",
   "execution_count": 14,
   "metadata": {},
   "outputs": [],
   "source": [
    "#读取相关数据\n",
    "df=pd.read_excel(\"D:/2022_py_code/03代码 (2)/03代码/data/01感染人数分布数据.xlsx\",sheet_name='各地区确诊')"
   ]
  },
  {
   "cell_type": "code",
   "execution_count": 15,
   "metadata": {},
   "outputs": [],
   "source": [
    "df.index=df['日期']#将索引值修改为日期"
   ]
  },
  {
   "cell_type": "code",
   "execution_count": 16,
   "metadata": {},
   "outputs": [],
   "source": [
    "df1=df.drop(['日期'],axis=1)#删除掉多余的“日期”列\n",
    "#axis：axis=0表示行，axis=1表示列"
   ]
  },
  {
   "cell_type": "code",
   "execution_count": 19,
   "metadata": {},
   "outputs": [],
   "source": [
    "df2=df1[\"2020-2-3\":\"2020-2-3\"]#选取二月三日的数据"
   ]
  },
  {
   "cell_type": "code",
   "execution_count": 20,
   "metadata": {},
   "outputs": [],
   "source": [
    "df3=df2.dropna(axis=1)\n",
    "#axis=1或axis='columns’指删除含有缺失值的列\n",
    "#这里不用0填充是因为0也会在地图里显示。"
   ]
  },
  {
   "cell_type": "code",
   "execution_count": 21,
   "metadata": {},
   "outputs": [
    {
     "name": "stdout",
     "output_type": "stream",
     "text": [
      "             北京    天津     上海     重庆     河北    山西    辽宁    吉林    黑龙江     江苏  \\\n",
      "日期                                                                           \n",
      "2020-2-3  228.0  60.0  208.0  337.0  126.0  74.0  74.0  42.0  155.0  308.0   \n",
      "\n",
      "          ...    甘肃    青海   内蒙古     广西   西藏    宁夏    新疆    香港   澳门    台湾  \n",
      "日期        ...                                                             \n",
      "2020-2-3  ...  55.0  15.0  34.0  139.0  1.0  34.0  29.0  15.0  8.0  10.0  \n",
      "\n",
      "[1 rows x 34 columns]\n"
     ]
    }
   ],
   "source": [
    "print(df3.head(5))"
   ]
  },
  {
   "cell_type": "code",
   "execution_count": 24,
   "metadata": {},
   "outputs": [
    {
     "name": "stdout",
     "output_type": "stream",
     "text": [
      "['北京', '天津', '上海', '重庆', '河北', '山西', '辽宁', '吉林', '黑龙江', '江苏', '浙江', '安徽', '福建', '江西', '山东', '河南', '湖北', '湖南', '广东', '海南', '四川', '贵州', '云南', '陕西', '甘肃', '青海', '内蒙古', '广西', '西藏', '宁夏', '新疆', '香港', '澳门', '台湾']\n"
     ]
    }
   ],
   "source": [
    "df_province=list(df3.columns)\n",
    "print(df_province)"
   ]
  },
  {
   "cell_type": "code",
   "execution_count": 34,
   "metadata": {},
   "outputs": [],
   "source": [
    "people=np.array(df3).astype(int)#数据格式转换"
   ]
  },
  {
   "cell_type": "code",
   "execution_count": 35,
   "metadata": {},
   "outputs": [],
   "source": [
    "people=people.tolist()\n",
    "people1=people[0]#取第一个数据"
   ]
  },
  {
   "cell_type": "code",
   "execution_count": 36,
   "metadata": {},
   "outputs": [],
   "source": [
    "##通过不同颜色展示各地区人数的分布情况\n",
    "#分段型数据显示\n",
    "def map_visualmap():\n",
    "    c = (\n",
    "        Map()\n",
    "        .add(\"2月3日确诊疫情\", [list(z) for z in zip(df_province, people1)], \"china\")#先读地区的列表数据，再读对应地区确诊人数，转换成People1\n",
    "        .set_global_opts(\n",
    "            title_opts=opts.TitleOpts(title=\"确诊疫情分布\"),\n",
    "            visualmap_opts=opts.VisualMapOpts(   \n",
    "                    is_piecewise=True,  # is_piecewise: bool = False,# 是否为分段型\n",
    "                    pieces=[\n",
    "                     {\"min\":10000, \"label\": '>10000人',\"color\": 'blue'},\n",
    "                     {\"min\": 500, \"max\": 9999, \"label\": '500-9999人',\"color\": 'red'},\n",
    "                     {\"min\": 100, \"max\": 499, \"label\": '100-499人',\"color\": 'orange'},\n",
    "                     {\"min\": 10, \"max\": 99, \"label\": '10-100人',\"color\": 'gold'},\n",
    "                     {\"min\": 0, \"max\": 9, \"label\": '1-9人',\"color\": 'cornsilk'},\n",
    "                   ]\n",
    "            ),\n",
    "        )\n",
    "    )\n",
    "    return c"
   ]
  },
  {
   "cell_type": "code",
   "execution_count": 37,
   "metadata": {},
   "outputs": [],
   "source": [
    "#调用函数\n",
    "if __name__ == '__main__':\n",
    "    city_ = map_visualmap()\n",
    "    city_.render(path=\"D:/2022_py_code/Afterclass_practice/03-01疫情分布（中国地图展示）.html\")"
   ]
  },
  {
   "cell_type": "code",
   "execution_count": null,
   "metadata": {},
   "outputs": [],
   "source": [
    "#绘制全球疫情分布图"
   ]
  },
  {
   "cell_type": "code",
   "execution_count": 43,
   "metadata": {},
   "outputs": [],
   "source": [
    "df=pd.read_excel(\"D:/2022_py_code/03代码 (2)/03代码/data/01感染人数分布数据.xlsx\",sheet_name='世界')"
   ]
  },
  {
   "cell_type": "code",
   "execution_count": 44,
   "metadata": {},
   "outputs": [],
   "source": [
    "df4=df1[\"2020-1-26\":\"2020-1-26\"]#选取1月26日数据"
   ]
  },
  {
   "cell_type": "code",
   "execution_count": 45,
   "metadata": {},
   "outputs": [],
   "source": [
    "df5=df3.dropna(axis=1)\n",
    "##删除缺失列，某列没数据，删除该省数据，这里不用0填充是因为0也会在地图里显示。"
   ]
  },
  {
   "cell_type": "code",
   "execution_count": 46,
   "metadata": {},
   "outputs": [],
   "source": [
    "df_country=list(df5.columns)\n",
    "#选取省名称，并转换成列表，目的是保持数据格式符合pyechart里Map的数据格式"
   ]
  },
  {
   "cell_type": "code",
   "execution_count": 47,
   "metadata": {},
   "outputs": [],
   "source": [
    "people=np.array(df3).astype(int)#数据格式转换"
   ]
  },
  {
   "cell_type": "code",
   "execution_count": 48,
   "metadata": {},
   "outputs": [],
   "source": [
    "people=people.tolist()\n",
    "people1=people[0]"
   ]
  },
  {
   "cell_type": "code",
   "execution_count": 51,
   "metadata": {},
   "outputs": [],
   "source": [
    "#定义世界地图展示函数\n",
    "def map_world():\n",
    "    c=(\n",
    "    Map()\n",
    "        .add(\"世界确诊分布\",[list(z) for z in zip(df_country,people1)],\"world\")\n",
    "        .set_series_opts(label_opts=opts.LabelOpts(is_show=False))\n",
    "        .set_global_opts(\n",
    "            title_opts=opts.TitleOpts(title=\"世界确诊分布\"),\n",
    "            visualmap_opts=opts.VisualMapOpts(max_=3000),\n",
    "        )\n",
    "    )\n",
    "    return c"
   ]
  },
  {
   "cell_type": "code",
   "execution_count": 52,
   "metadata": {},
   "outputs": [],
   "source": [
    "#调用函数\n",
    "if __name__=='__main__':\n",
    "    city_=map_world()\n",
    "    city_.render(path=\"D:/2022_py_code/Afterclass_practice/03-02疫情分布（世界地图展示）.html\")"
   ]
  },
  {
   "cell_type": "code",
   "execution_count": 53,
   "metadata": {},
   "outputs": [],
   "source": [
    "#绘制病症情况堆叠图\n",
    "df=pd.read_excel(\"D:/2022_py_code/03代码 (2)/03代码/data/01感染人数分布数据.xlsx\",sheet_name='全国走势')"
   ]
  },
  {
   "cell_type": "code",
   "execution_count": 54,
   "metadata": {},
   "outputs": [],
   "source": [
    "#读取历史疫情数据\n",
    "df1=df[0:10]#读取1-20到29日数据"
   ]
  },
  {
   "cell_type": "code",
   "execution_count": 57,
   "metadata": {},
   "outputs": [
    {
     "data": {
      "text/plain": [
       "'D:\\\\2022_py_code\\\\Afterclass_practice\\\\03-03重症-确诊-疑似堆叠图.html'"
      ]
     },
     "execution_count": 57,
     "metadata": {},
     "output_type": "execute_result"
    }
   ],
   "source": [
    "#调用Bar()函数\n",
    "c=(\n",
    "   Bar()\n",
    "   .add_xaxis(df1['日期'].tolist())\n",
    "   .add_yaxis('现有重症人数',df1['现有重症'].tolist(),stack=\"stack=1\",category_gap=\"60%\")\n",
    "   .add_yaxis('累计确诊人数',df1['累计确诊'].tolist(),stack=\"stack=1\",category_gap=\"60%\")\n",
    "   .add_yaxis(\"疑似人数\", df1['疑似'].tolist(), stack=\"stack1\",category_gap=\"60%\")  \n",
    "    .set_series_opts(label_opts=opts.LabelOpts(position=\"right\"))#将数值在右侧显示\n",
    "    .set_global_opts(title_opts=opts.TitleOpts(title=\"重症-确诊-疑似堆叠图\"))\n",
    ")\n",
    "c.render(path=\"D:/2022_py_code/Afterclass_practice/03-03重症-确诊-疑似堆叠图.html\")"
   ]
  },
  {
   "cell_type": "code",
   "execution_count": null,
   "metadata": {},
   "outputs": [],
   "source": []
  }
 ],
 "metadata": {
  "kernelspec": {
   "display_name": "Python 3",
   "language": "python",
   "name": "python3"
  },
  "language_info": {
   "codemirror_mode": {
    "name": "ipython",
    "version": 3
   },
   "file_extension": ".py",
   "mimetype": "text/x-python",
   "name": "python",
   "nbconvert_exporter": "python",
   "pygments_lexer": "ipython3",
   "version": "3.8.5"
  }
 },
 "nbformat": 4,
 "nbformat_minor": 4
}
