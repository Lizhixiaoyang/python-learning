{
 "cells": [
  {
   "cell_type": "code",
   "execution_count": 1,
   "metadata": {},
   "outputs": [],
   "source": [
    "#知识点\n",
    "#1.截取某年全部数据\n",
    "#2.对列进行统计\n",
    "#3.柱状图\n",
    "#4.饼图\n",
    "#5.玫瑰图\n",
    "#其中气泡云图用Tableau制作\n"
   ]
  },
  {
   "cell_type": "code",
   "execution_count": 2,
   "metadata": {},
   "outputs": [],
   "source": [
    "import pandas as pd\n",
    "import seaborn as sns\n",
    "import matplotlib.pyplot as plt\n",
    "import numpy as np"
   ]
  },
  {
   "cell_type": "code",
   "execution_count": 3,
   "metadata": {},
   "outputs": [],
   "source": [
    "df_new=pd.read_excel(\"D:/2022_py_code/chap2数据/03_newDate.xlsx\",sheet_name='Sheet1',index_col=0)"
   ]
  },
  {
   "cell_type": "code",
   "execution_count": 4,
   "metadata": {},
   "outputs": [],
   "source": [
    "df_new.index=df_new['date']\n",
    "#把索引值修改为日期"
   ]
  },
  {
   "cell_type": "code",
   "execution_count": 5,
   "metadata": {},
   "outputs": [],
   "source": [
    "df_2020=df_new[\"2020-01-01\":\"2020-12-31\"]\n",
    "#截取2020年的全部数据"
   ]
  },
  {
   "cell_type": "code",
   "execution_count": 6,
   "metadata": {},
   "outputs": [
    {
     "name": "stdout",
     "output_type": "stream",
     "text": [
      "                  date  maxTem  minTem weather wind_direction wind_speed\n",
      "date                                                                    \n",
      "2020-01-01  2020-01-01      20      15      多云             东风         2级\n",
      "2020-01-02  2020-01-02      21      16    多云转晴             东风         2级\n",
      "2020-01-03  2020-01-03      22      16      多云            东南风         2级\n",
      "2020-01-04  2020-01-04      25      17       阴            东南风         2级\n",
      "2020-01-05  2020-01-05      25      17      多云             东风         2级\n",
      "2020-01-06  2020-01-06      25      18    晴转多云             东风         3级\n",
      "2020-01-07  2020-01-07      26      19    晴转多云            东南风         2级\n",
      "2020-01-08  2020-01-08      26      17      多云             东风         2级\n",
      "2020-01-09  2020-01-09      23      18      多云             东风         2级\n",
      "2020-01-10  2020-01-10      24      18       晴            东南风         2级\n",
      "2020-01-11  2020-01-11      25      17    晴转多云             北风         2级\n",
      "2020-01-12  2020-01-12      18      13      多云             北风         3级\n",
      "2020-01-13  2020-01-13      21      14    晴转多云             东风         2级\n",
      "2020-01-14  2020-01-14      22      15       晴             东风         2级\n",
      "2020-01-15  2020-01-15      22      17    阴转多云             东风         3级\n",
      "2020-01-16  2020-01-16      23      17      多云             东风         2级\n",
      "2020-01-17  2020-01-17      20      14      多云             北风         2级\n",
      "2020-01-18  2020-01-18      21      14      多云            东北风         2级\n",
      "2020-01-19  2020-01-19      21      15    晴转多云            东北风         2级\n",
      "2020-01-20  2020-01-20      20      14       阴            东北风         2级\n"
     ]
    }
   ],
   "source": [
    "print(df_2020.head(20))"
   ]
  },
  {
   "cell_type": "code",
   "execution_count": 7,
   "metadata": {},
   "outputs": [],
   "source": [
    "df_weather_2020=df_2020['weather'].value_counts()\n",
    "#对2020年的weather列进行统计"
   ]
  },
  {
   "cell_type": "code",
   "execution_count": 8,
   "metadata": {},
   "outputs": [
    {
     "name": "stdout",
     "output_type": "stream",
     "text": [
      "多云        164\n",
      "晴          86\n",
      "阴          46\n",
      "晴转多云       19\n",
      "多云转雨       10\n",
      "多云转晴        8\n",
      "小雨          8\n",
      "阴转雨         6\n",
      "多云转阴        4\n",
      "小雨到中雨       4\n",
      "阴转多云        3\n",
      "小雨转雨        2\n",
      "阴到小雨        2\n",
      "中雨转雨        1\n",
      "小雨到大雨       1\n",
      "大雨转雨        1\n",
      "暴雨到暴风雨      1\n",
      "Name: weather, dtype: int64\n"
     ]
    }
   ],
   "source": [
    "print(df_weather_2020)"
   ]
  },
  {
   "cell_type": "code",
   "execution_count": 9,
   "metadata": {},
   "outputs": [],
   "source": [
    "#实现x轴坐标竖排展示（非90°）\n",
    "label_list=df_weather_2020.index.tolist()\n",
    "#index.tolist 返回一个值列表\n",
    "label=[]\n",
    "for i in range(len(label_list)):\n",
    "    label_vertical=[]#vertical是垂直的意思\n",
    "    for j in range(len(label_list[i])):\n",
    "        label_vertical.append(label_list[i][j]+\"\\n\")#每个中文加入换行符，实现竖排显示\n",
    "    label.append(''.join(label_vertical))#将列表转换为字符串"
   ]
  },
  {
   "cell_type": "code",
   "execution_count": 10,
   "metadata": {},
   "outputs": [],
   "source": [
    "sns.set(font_scale=1.5,font='SimHei',style='white')#设置字体大小为1.5，字体颜色为黑体，背景色为白色"
   ]
  },
  {
   "cell_type": "code",
   "execution_count": 11,
   "metadata": {},
   "outputs": [
    {
     "data": {
      "text/plain": [
       "<Figure size 5760x1440 with 0 Axes>"
      ]
     },
     "execution_count": 11,
     "metadata": {},
     "output_type": "execute_result"
    },
    {
     "data": {
      "text/plain": [
       "<Figure size 5760x1440 with 0 Axes>"
      ]
     },
     "metadata": {},
     "output_type": "display_data"
    }
   ],
   "source": [
    "plt.figure(figsize=(80,20))"
   ]
  },
  {
   "cell_type": "code",
   "execution_count": 12,
   "metadata": {},
   "outputs": [
    {
     "data": {
      "text/plain": [
       "<BarContainer object of 17 artists>"
      ]
     },
     "execution_count": 12,
     "metadata": {},
     "output_type": "execute_result"
    },
    {
     "data": {
      "image/png": "[encoded data removed]",
      "text/plain": [
       "<Figure size 432x288 with 1 Axes>"
      ]
     },
     "metadata": {},
     "output_type": "display_data"
    }
   ],
   "source": [
    "#绘制柱状图\n",
    "plt.bar(label,df_weather_2020.values,color='black')"
   ]
  },
  {
   "cell_type": "code",
   "execution_count": 13,
   "metadata": {},
   "outputs": [
    {
     "data": {
      "text/plain": [
       "<Figure size 18000x11520 with 0 Axes>"
      ]
     },
     "execution_count": 13,
     "metadata": {},
     "output_type": "execute_result"
    },
    {
     "data": {
      "text/plain": [
       "<Figure size 18000x11520 with 0 Axes>"
      ]
     },
     "metadata": {},
     "output_type": "display_data"
    }
   ],
   "source": [
    "#绘制饼图\n",
    "#准备工作\n",
    "sizes=df_new[\"wind_direction\"].value_counts()#统计风向\n",
    "labels=sizes.index\n",
    "sns.set(font_scale=1,font='SimHei')#黑体，字号为1\n",
    "plt.style.use('grayscale')#将图片设置为灰度图\n",
    "plt.figure(figsize=(250,160))"
   ]
  },
  {
   "cell_type": "code",
   "execution_count": 14,
   "metadata": {},
   "outputs": [
    {
     "name": "stderr",
     "output_type": "stream",
     "text": [
      "<ipython-input-14-23d7e0d0f152>:4: UserWarning: The handle <matplotlib.patches.Wedge object at 0x0000019070956EB0> has a label of '_' which cannot be automatically added to the legend.\n",
      "  plt.legend(bbox_to_anchor=(0.8,1.1),fontsize=10,ncol=3,labels='wind_direction')#用于给图像增加图例\n"
     ]
    },
    {
     "data": {
      "image/png": "[encoded data removed]",
      "text/plain": [
       "<Figure size 432x288 with 1 Axes>"
      ]
     },
     "metadata": {},
     "output_type": "display_data"
    }
   ],
   "source": [
    "plt.pie(sizes,labels=labels,autopct='%1.1f%%',textprops=dict(color='w'))\n",
    "#其中的labels是标注，autopct用于显示数字，textprops用于设置字体颜色\n",
    "\n",
    "plt.legend(bbox_to_anchor=(0.8,1.1),fontsize=10,ncol=3,labels='wind_direction')#用于给图像增加图例\n",
    "plt.axis('equal')\n",
    "plt.show()"
   ]
  },
  {
   "cell_type": "code",
   "execution_count": 15,
   "metadata": {},
   "outputs": [],
   "source": [
    "#pie最简单版\n",
    "#plt.pie(sizes,labels=None) #就这一行就够了，其他都不写\n",
    "##autopct='%1.1f%%',textprops=dict(color='w'))\n"
   ]
  },
  {
   "cell_type": "code",
   "execution_count": 16,
   "metadata": {},
   "outputs": [],
   "source": [
    "#风玫瑰图\n",
    "#准备工作：df_2020,df_direction,df_speed\n",
    "from windrose import plot_windrose\n",
    "df_speed=df_2020[\"wind_speed\"].value_counts()"
   ]
  },
  {
   "cell_type": "code",
   "execution_count": 17,
   "metadata": {},
   "outputs": [
    {
     "name": "stderr",
     "output_type": "stream",
     "text": [
      "D:\\anaconda\\lib\\site-packages\\pandas\\core\\frame.py:4379: SettingWithCopyWarning: \n",
      "A value is trying to be set on a copy of a slice from a DataFrame\n",
      "\n",
      "See the caveats in the documentation: https://pandas.pydata.org/pandas-docs/stable/user_guide/indexing.html#returning-a-view-versus-a-copy\n",
      "  return super().replace(\n"
     ]
    }
   ],
   "source": [
    "#进行替换,将汉字替换成数字\n",
    "df_2020.replace({'无持续风向':0,'东北风':45,'东南风':135,'东南偏东风':135,'西南风':225,'西北风':315,'西北偏北风':360,'北风':360,'东风':90,'南风':180,'西风':270,'微风':0,'1级':1,'2级':2,'小于3级':2.5,'3级':'3','3~4级':3.5,'4级':4,'5级':5,'6级':6,'7级':7},inplace=True)"
   ]
  },
  {
   "cell_type": "code",
   "execution_count": 18,
   "metadata": {},
   "outputs": [],
   "source": [
    "df=df_2020[['wind_speed','wind_direction']]#选取需要的风速列和风向列\n"
   ]
  },
  {
   "cell_type": "code",
   "execution_count": 19,
   "metadata": {},
   "outputs": [],
   "source": [
    "df1=df.rename(columns={'wind_direction':'direction','wind_speed':'speed'})#改变一下列名称，符合windrose库的命名规则\n"
   ]
  },
  {
   "cell_type": "code",
   "execution_count": 21,
   "metadata": {},
   "outputs": [
    {
     "ename": "TypeError",
     "evalue": "ufunc 'isfinite' not supported for the input types, and the inputs could not be safely coerced to any supported types according to the casting rule ''safe''",
     "output_type": "error",
     "traceback": [
      "\u001b[1;31m---------------------------------------------------------------------------\u001b[0m",
      "\u001b[1;31mTypeError\u001b[0m                                 Traceback (most recent call last)",
      "\u001b[1;32m<ipython-input-21-696b78282320>\u001b[0m in \u001b[0;36m<module>\u001b[1;34m\u001b[0m\n\u001b[0;32m      1\u001b[0m \u001b[1;31m#plot_windrose(df1,kind='bar')\u001b[0m\u001b[1;33m\u001b[0m\u001b[1;33m\u001b[0m\u001b[1;33m\u001b[0m\u001b[0m\n\u001b[1;32m----> 2\u001b[1;33m \u001b[0mplot_windrose\u001b[0m\u001b[1;33m(\u001b[0m\u001b[0mdf1\u001b[0m\u001b[1;33m,\u001b[0m\u001b[0mkind\u001b[0m\u001b[1;33m=\u001b[0m\u001b[1;34m'pdf'\u001b[0m\u001b[1;33m,\u001b[0m\u001b[0mbins\u001b[0m\u001b[1;33m=\u001b[0m\u001b[0mnp\u001b[0m\u001b[1;33m.\u001b[0m\u001b[0marange\u001b[0m\u001b[1;33m(\u001b[0m\u001b[1;36m0.1\u001b[0m\u001b[1;33m,\u001b[0m\u001b[1;36m6\u001b[0m\u001b[1;33m,\u001b[0m\u001b[1;36m1\u001b[0m\u001b[1;33m)\u001b[0m\u001b[1;33m)\u001b[0m\u001b[1;33m\u001b[0m\u001b[1;33m\u001b[0m\u001b[0m\n\u001b[0m",
      "\u001b[1;32mD:\\anaconda\\lib\\site-packages\\windrose\\windrose.py\u001b[0m in \u001b[0;36mplot_windrose\u001b[1;34m(direction_or_df, var, kind, var_name, direction_name, by, rmax, **kwargs)\u001b[0m\n\u001b[0;32m    921\u001b[0m     \u001b[1;32melse\u001b[0m\u001b[1;33m:\u001b[0m\u001b[1;33m\u001b[0m\u001b[1;33m\u001b[0m\u001b[0m\n\u001b[0;32m    922\u001b[0m         \u001b[0mdirection\u001b[0m \u001b[1;33m=\u001b[0m \u001b[0mdirection_or_df\u001b[0m\u001b[1;33m\u001b[0m\u001b[1;33m\u001b[0m\u001b[0m\n\u001b[1;32m--> 923\u001b[1;33m     \u001b[1;32mreturn\u001b[0m \u001b[0mplot_windrose_np\u001b[0m\u001b[1;33m(\u001b[0m\u001b[0mdirection\u001b[0m\u001b[1;33m,\u001b[0m \u001b[0mvar\u001b[0m\u001b[1;33m,\u001b[0m \u001b[0mkind\u001b[0m\u001b[1;33m=\u001b[0m\u001b[0mkind\u001b[0m\u001b[1;33m,\u001b[0m \u001b[0mby\u001b[0m\u001b[1;33m=\u001b[0m\u001b[0mby\u001b[0m\u001b[1;33m,\u001b[0m \u001b[0mrmax\u001b[0m\u001b[1;33m=\u001b[0m\u001b[0mrmax\u001b[0m\u001b[1;33m,\u001b[0m \u001b[1;33m**\u001b[0m\u001b[0mkwargs\u001b[0m\u001b[1;33m)\u001b[0m\u001b[1;33m\u001b[0m\u001b[1;33m\u001b[0m\u001b[0m\n\u001b[0m\u001b[0;32m    924\u001b[0m \u001b[1;33m\u001b[0m\u001b[0m\n\u001b[0;32m    925\u001b[0m \u001b[1;33m\u001b[0m\u001b[0m\n",
      "\u001b[1;32mD:\\anaconda\\lib\\site-packages\\windrose\\windrose.py\u001b[0m in \u001b[0;36mplot_windrose_np\u001b[1;34m(direction, var, kind, clean_flag, by, rmax, **kwargs)\u001b[0m\n\u001b[0;32m    952\u001b[0m     \u001b[1;31m# direction = df[direction_name].values\u001b[0m\u001b[1;33m\u001b[0m\u001b[1;33m\u001b[0m\u001b[1;33m\u001b[0m\u001b[0m\n\u001b[0;32m    953\u001b[0m     \u001b[1;32mif\u001b[0m \u001b[0mclean_flag\u001b[0m\u001b[1;33m:\u001b[0m\u001b[1;33m\u001b[0m\u001b[1;33m\u001b[0m\u001b[0m\n\u001b[1;32m--> 954\u001b[1;33m         \u001b[0mdirection\u001b[0m\u001b[1;33m,\u001b[0m \u001b[0mvar\u001b[0m \u001b[1;33m=\u001b[0m \u001b[0mclean\u001b[0m\u001b[1;33m(\u001b[0m\u001b[0mdirection\u001b[0m\u001b[1;33m,\u001b[0m \u001b[0mvar\u001b[0m\u001b[1;33m)\u001b[0m\u001b[1;33m\u001b[0m\u001b[1;33m\u001b[0m\u001b[0m\n\u001b[0m\u001b[0;32m    955\u001b[0m     \u001b[1;32mif\u001b[0m \u001b[0mby\u001b[0m \u001b[1;32mis\u001b[0m \u001b[1;32mNone\u001b[0m\u001b[1;33m:\u001b[0m\u001b[1;33m\u001b[0m\u001b[1;33m\u001b[0m\u001b[0m\n\u001b[0;32m    956\u001b[0m         \u001b[0max\u001b[0m \u001b[1;33m=\u001b[0m \u001b[0mf_plot\u001b[0m\u001b[1;33m(\u001b[0m\u001b[0mdirection\u001b[0m\u001b[1;33m=\u001b[0m\u001b[0mdirection\u001b[0m\u001b[1;33m,\u001b[0m \u001b[0mvar\u001b[0m\u001b[1;33m=\u001b[0m\u001b[0mvar\u001b[0m\u001b[1;33m,\u001b[0m \u001b[0mrmax\u001b[0m\u001b[1;33m=\u001b[0m\u001b[0mrmax\u001b[0m\u001b[1;33m,\u001b[0m \u001b[1;33m**\u001b[0m\u001b[0mkwargs\u001b[0m\u001b[1;33m)\u001b[0m\u001b[1;33m\u001b[0m\u001b[1;33m\u001b[0m\u001b[0m\n",
      "\u001b[1;32mD:\\anaconda\\lib\\site-packages\\windrose\\windrose.py\u001b[0m in \u001b[0;36mclean\u001b[1;34m(direction, var, index)\u001b[0m\n\u001b[0;32m    881\u001b[0m     \"\"\"\n\u001b[0;32m    882\u001b[0m     \u001b[0mdirmask\u001b[0m \u001b[1;33m=\u001b[0m \u001b[0mnp\u001b[0m\u001b[1;33m.\u001b[0m\u001b[0misfinite\u001b[0m\u001b[1;33m(\u001b[0m\u001b[0mdirection\u001b[0m\u001b[1;33m)\u001b[0m\u001b[1;33m\u001b[0m\u001b[1;33m\u001b[0m\u001b[0m\n\u001b[1;32m--> 883\u001b[1;33m     \u001b[0mvarmask\u001b[0m \u001b[1;33m=\u001b[0m \u001b[1;33m(\u001b[0m\u001b[0mvar\u001b[0m \u001b[1;33m!=\u001b[0m \u001b[1;36m0\u001b[0m\u001b[1;33m)\u001b[0m \u001b[1;33m&\u001b[0m \u001b[0mnp\u001b[0m\u001b[1;33m.\u001b[0m\u001b[0misfinite\u001b[0m\u001b[1;33m(\u001b[0m\u001b[0mvar\u001b[0m\u001b[1;33m)\u001b[0m\u001b[1;33m\u001b[0m\u001b[1;33m\u001b[0m\u001b[0m\n\u001b[0m\u001b[0;32m    884\u001b[0m     \u001b[0mmask\u001b[0m \u001b[1;33m=\u001b[0m \u001b[0mdirmask\u001b[0m \u001b[1;33m&\u001b[0m \u001b[0mvarmask\u001b[0m\u001b[1;33m\u001b[0m\u001b[1;33m\u001b[0m\u001b[0m\n\u001b[0;32m    885\u001b[0m     \u001b[1;32mif\u001b[0m \u001b[0mindex\u001b[0m \u001b[1;32mis\u001b[0m \u001b[1;32mNone\u001b[0m\u001b[1;33m:\u001b[0m\u001b[1;33m\u001b[0m\u001b[1;33m\u001b[0m\u001b[0m\n",
      "\u001b[1;31mTypeError\u001b[0m: ufunc 'isfinite' not supported for the input types, and the inputs could not be safely coerced to any supported types according to the casting rule ''safe''"
     ]
    }
   ],
   "source": [
    "#plot_windrose(df1,kind='bar')\n",
    "plot_windrose(df1,kind='pdf',bins=np.arange(0.1,6,1))"
   ]
  },
  {
   "cell_type": "code",
   "execution_count": null,
   "metadata": {},
   "outputs": [],
   "source": []
  }
 ],
 "metadata": {
  "kernelspec": {
   "display_name": "Python 3",
   "language": "python",
   "name": "python3"
  },
  "language_info": {
   "codemirror_mode": {
    "name": "ipython",
    "version": 3
   },
   "file_extension": ".py",
   "mimetype": "text/x-python",
   "name": "python",
   "nbconvert_exporter": "python",
   "pygments_lexer": "ipython3",
   "version": "3.8.5"
  }
 },
 "nbformat": 4,
 "nbformat_minor": 4
}
